{
 "cells": [
  {
   "cell_type": "markdown",
   "metadata": {
    "colab_type": "text",
    "id": "P6xk2_jLsvFF"
   },
   "source": [
    "# [作業目標]\n",
    "\n",
    "1. 產生一個 1-11 的一維陣列，並且把 3-6 由正數變成負數。\n",
    "2. 試著從一個隨機陣列中，找出比 0.5 大的數有幾個？\n",
    "\n"
   ]
  },
  {
   "cell_type": "markdown",
   "metadata": {
    "colab_type": "text",
    "id": "uXGll28asvFS"
   },
   "source": [
    "# 作業 "
   ]
  },
  {
   "cell_type": "markdown",
   "metadata": {},
   "source": [
    "### 1. 產生一個 1-11 的一維陣列，並且把 3-6 由正數變成負數。\n",
    "\n"
   ]
  },
  {
   "cell_type": "code",
   "execution_count": 7,
   "metadata": {},
   "outputs": [],
   "source": [
    "# 記得先 Import 正確的套件\n",
    "import numpy as np"
   ]
  },
  {
   "cell_type": "code",
   "execution_count": 10,
   "metadata": {
    "colab": {},
    "colab_type": "code",
    "id": "5QrYoyNWsvFS"
   },
   "outputs": [
    {
     "name": "stdout",
     "output_type": "stream",
     "text": [
      "[ 0  1  2 -3 -4 -5 -6 -7  8  9 10 11]\n"
     ]
    }
   ],
   "source": [
    "a=np.arange(12)\n",
    "a[ (a >= 3) & (a < 8) ] *= (-1)\n",
    "print(a)"
   ]
  },
  {
   "cell_type": "markdown",
   "metadata": {},
   "source": [
    "2. 試著從一個隨機陣列中，找出比 0.5 大的數有幾個？\n",
    "\n"
   ]
  },
  {
   "cell_type": "code",
   "execution_count": 3,
   "metadata": {
    "colab": {},
    "colab_type": "code",
    "id": "e1gVI0tvsvFY"
   },
   "outputs": [
    {
     "name": "stdout",
     "output_type": "stream",
     "text": [
      "[[0.10348972 0.49389362 0.31635901 0.76595284 0.74679101 0.10180387]\n",
      " [0.91728208 0.64328331 0.16315334 0.53549783 0.67460791 0.12426698]\n",
      " [0.54894643 0.6847993  0.43027565 0.29905766 0.6014171  0.73056245]]\n",
      "[0.76595284 0.74679101 0.91728208 0.64328331 0.53549783 0.67460791\n",
      " 0.54894643 0.6847993  0.6014171  0.73056245]\n",
      "10\n"
     ]
    }
   ],
   "source": [
    "import numpy as np\n",
    "\n",
    "A = np.random.rand(3, 6)\n",
    "\n",
    "print(A)\n",
    "print(A[ A > 0.5 ])\n",
    "print(A[ A > 0.5 ].size)"
   ]
  },
  {
   "cell_type": "code",
   "execution_count": null,
   "metadata": {},
   "outputs": [],
   "source": []
  },
  {
   "cell_type": "code",
   "execution_count": null,
   "metadata": {},
   "outputs": [],
   "source": []
  },
  {
   "cell_type": "code",
   "execution_count": null,
   "metadata": {},
   "outputs": [],
   "source": []
  },
  {
   "cell_type": "code",
   "execution_count": null,
   "metadata": {},
   "outputs": [],
   "source": []
  }
 ],
 "metadata": {
  "colab": {
   "name": "Day_023_HW.ipynb",
   "provenance": []
  },
  "kernelspec": {
   "display_name": "Python 3",
   "language": "python",
   "name": "python3"
  },
  "language_info": {
   "codemirror_mode": {
    "name": "ipython",
    "version": 3
   },
   "file_extension": ".py",
   "mimetype": "text/x-python",
   "name": "python",
   "nbconvert_exporter": "python",
   "pygments_lexer": "ipython3",
   "version": "3.8.8"
  }
 },
 "nbformat": 4,
 "nbformat_minor": 1
}
