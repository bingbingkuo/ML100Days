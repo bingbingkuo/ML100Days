{
 "cells": [
  {
   "cell_type": "markdown",
   "metadata": {
    "colab_type": "text",
    "id": "P6xk2_jLsvFF"
   },
   "source": [
    "# [作業目標]\n",
    "\n",
    "1. 請比較對一個 100 x 100 * 100 的陣列，使用不同方法對每一個元素 +1 的時間比較。\n",
    "\n",
    "2. 如何從一個陣列中，找出出現頻率最高的數值與位置？\n",
    "\n",
    "3. 如何利用 list(...) 實現 a.tolist() 的效果？試著用程式實作。\n"
   ]
  },
  {
   "cell_type": "markdown",
   "metadata": {
    "colab_type": "text",
    "id": "uXGll28asvFS"
   },
   "source": [
    "# 作業 "
   ]
  },
  {
   "cell_type": "markdown",
   "metadata": {},
   "source": [
    "### 1. 請比較對一個 1000 x 100 x 100 的陣列，使用不同方法對每一個元素 +1 的時間比較。\n",
    "\n",
    "\n"
   ]
  },
  {
   "cell_type": "code",
   "execution_count": 4,
   "metadata": {},
   "outputs": [],
   "source": [
    "# 記得先 Import 正確的套件\n",
    "import numpy as np"
   ]
  },
  {
   "cell_type": "code",
   "execution_count": 5,
   "metadata": {
    "colab": {},
    "colab_type": "code",
    "id": "5QrYoyNWsvFS"
   },
   "outputs": [],
   "source": [
    "Z = np.random.randint(0, 10, 1000000).reshape(100, 100, 100)"
   ]
  },
  {
   "cell_type": "code",
   "execution_count": 11,
   "metadata": {},
   "outputs": [
    {
     "name": "stdout",
     "output_type": "stream",
     "text": [
      "40.5 ns ± 15.2 ns per loop (mean ± std. dev. of 7 runs, 10 loops each)\n"
     ]
    }
   ],
   "source": [
    "%timeit -n 10 a = 2\n",
    "\n",
    "for i in Z:\n",
    "    for j in i:\n",
    "        for k in j:\n",
    "            i = i + 1"
   ]
  },
  {
   "cell_type": "code",
   "execution_count": 12,
   "metadata": {},
   "outputs": [
    {
     "name": "stdout",
     "output_type": "stream",
     "text": [
      "37.3 ns ± 14.7 ns per loop (mean ± std. dev. of 7 runs, 10 loops each)\n"
     ]
    }
   ],
   "source": [
    "%timeit -n 10 a = 2\n",
    "\n",
    "for d in Z.flat:\n",
    "    d = d + 1"
   ]
  },
  {
   "cell_type": "code",
   "execution_count": 13,
   "metadata": {},
   "outputs": [
    {
     "name": "stdout",
     "output_type": "stream",
     "text": [
      "41.9 ns ± 13 ns per loop (mean ± std. dev. of 7 runs, 10 loops each)\n"
     ]
    }
   ],
   "source": [
    "%timeit -n 10 a = 2\n",
    "\n",
    "for e in np.nditer(Z):\n",
    "    e = e + 1"
   ]
  },
  {
   "cell_type": "markdown",
   "metadata": {},
   "source": [
    "### 2. 如何從一個陣列中，找出出現頻率最高的數值與位置？\n"
   ]
  },
  {
   "cell_type": "code",
   "execution_count": 34,
   "metadata": {
    "colab": {},
    "colab_type": "code",
    "id": "e1gVI0tvsvFY"
   },
   "outputs": [
    {
     "name": "stdout",
     "output_type": "stream",
     "text": [
      "[3 9 5 0 1 2 0 5 9 9 1 6 0 4 4 7 6 4 4 8 8 4 0 3 6 5 7 7 3 4 6 7 3 3 1 1 7\n",
      " 3 8 6 6 8 8 5 3 6 4 8 0 4]\n",
      "[5 4 1 7 8 4 7 5 6 3]\n",
      "4\n",
      "[13 14 17 18 21 29 46 49]\n"
     ]
    }
   ],
   "source": [
    "import numpy as np\n",
    "\n",
    "Z = np.random.randint(0,10,50)\n",
    "print(Z)\n",
    "\n",
    "arr1= (np.bincount(Z).argmax())\n",
    "print(np.bincount(Z))\n",
    "print(arr1)\n",
    "\n",
    "arr2=np.where(Z == arr1)[0]\n",
    "print(arr2)"
   ]
  },
  {
   "cell_type": "code",
   "execution_count": 6,
   "metadata": {},
   "outputs": [
    {
     "data": {
      "text/plain": [
       "8"
      ]
     },
     "execution_count": 6,
     "metadata": {},
     "output_type": "execute_result"
    }
   ],
   "source": [
    "'''\n",
    "Your Code\n",
    "'''"
   ]
  },
  {
   "cell_type": "code",
   "execution_count": 13,
   "metadata": {},
   "outputs": [
    {
     "data": {
      "text/plain": [
       "array([ 0,  5,  9, 10, 11, 12, 18, 22, 38, 39, 41, 47, 49])"
      ]
     },
     "execution_count": 13,
     "metadata": {},
     "output_type": "execute_result"
    }
   ],
   "source": [
    "'''\n",
    "Your Code\n",
    "'''"
   ]
  },
  {
   "cell_type": "markdown",
   "metadata": {},
   "source": [
    "### 3. 如何利用 list(...) 實現 a.tolist() 的效果？試著用程式實作。\n"
   ]
  },
  {
   "cell_type": "code",
   "execution_count": 15,
   "metadata": {},
   "outputs": [
    {
     "name": "stdout",
     "output_type": "stream",
     "text": [
      "[7, 8, 1, 0, 9, 9]\n",
      "[7, 8, 1, 0, 9, 9]\n",
      "[[4, 2, 1, 5], [5, 3, 4, 1], [3, 9, 9, 6]]\n",
      "[array([4, 2, 1, 5]), array([5, 3, 4, 1]), array([3, 9, 9, 6])]\n",
      "[[[5, 6], [7, 2], [9, 0]], [[0, 6], [9, 1], [8, 8]]]\n",
      "[array([[5, 6],\n",
      "       [7, 2],\n",
      "       [9, 0]]), array([[0, 6],\n",
      "       [9, 1],\n",
      "       [8, 8]])]\n"
     ]
    }
   ],
   "source": [
    "a = np.random.randint(10, size=6) \n",
    "\n",
    "print(a.tolist())\n",
    "print(list(a))\n",
    "\n",
    "\n",
    "b = np.random.randint(10, size=(3,4)) \n",
    "\n",
    "print(b.tolist())\n",
    "print(list(b))\n",
    "\n",
    "\n",
    "c = np.random.randint(10, size=(2,3,2)) \n",
    "\n",
    "print(c.tolist())\n",
    "print(list(c))\n"
   ]
  },
  {
   "cell_type": "code",
   "execution_count": 40,
   "metadata": {},
   "outputs": [
    {
     "name": "stdout",
     "output_type": "stream",
     "text": [
      "b\n",
      "[7 8 1 0 9 9]\n",
      "[7 8 1 0 9 9]\n",
      "[7 8 1 0 9 9]\n",
      "[7 8 1 0 9 9]\n",
      "[7 8 1 0 9 9]\n",
      "[7 8 1 0 9 9]\n",
      "[7, 8, 1, 0, 9, 9]\n",
      "b\n",
      "b\n",
      "[7 8 1 0 9 9]\n",
      "[7 8 1 0 9 9]\n",
      "[7 8 1 0 9 9]\n",
      "[7 8 1 0 9 9]\n",
      "b\n",
      "[7 8 1 0 9 9]\n",
      "[7 8 1 0 9 9]\n",
      "[7 8 1 0 9 9]\n",
      "[7 8 1 0 9 9]\n",
      "b\n",
      "[7 8 1 0 9 9]\n",
      "[7 8 1 0 9 9]\n",
      "[7 8 1 0 9 9]\n",
      "[7 8 1 0 9 9]\n",
      "[[4, 2, 1, 5], [5, 3, 4, 1], [3, 9, 9, 6]]\n",
      "b\n",
      "b\n",
      "b\n",
      "[7 8 1 0 9 9]\n",
      "[7 8 1 0 9 9]\n",
      "b\n",
      "[7 8 1 0 9 9]\n",
      "[7 8 1 0 9 9]\n",
      "b\n",
      "[7 8 1 0 9 9]\n",
      "[7 8 1 0 9 9]\n",
      "b\n",
      "b\n",
      "[7 8 1 0 9 9]\n",
      "[7 8 1 0 9 9]\n",
      "b\n",
      "[7 8 1 0 9 9]\n",
      "[7 8 1 0 9 9]\n",
      "b\n",
      "[7 8 1 0 9 9]\n",
      "[7 8 1 0 9 9]\n",
      "[[[5, 6], [7, 2], [9, 0]], [[0, 6], [9, 1], [8, 8]]]\n"
     ]
    }
   ],
   "source": [
    "def tolist(iterable):\n",
    "    if type(iterable) != np.ndarray:\n",
    "        return iterable\n",
    "    return [tolist(obj) for obj in iterable]\n",
    "\n",
    "print(tolist(a))\n",
    "print(tolist(b))\n",
    "print(tolist(c))"
   ]
  }
 ],
 "metadata": {
  "colab": {
   "name": "Day_023_HW.ipynb",
   "provenance": []
  },
  "kernelspec": {
   "display_name": "Python 3",
   "language": "python",
   "name": "python3"
  },
  "language_info": {
   "codemirror_mode": {
    "name": "ipython",
    "version": 3
   },
   "file_extension": ".py",
   "mimetype": "text/x-python",
   "name": "python",
   "nbconvert_exporter": "python",
   "pygments_lexer": "ipython3",
   "version": "3.8.8"
  }
 },
 "nbformat": 4,
 "nbformat_minor": 1
}
