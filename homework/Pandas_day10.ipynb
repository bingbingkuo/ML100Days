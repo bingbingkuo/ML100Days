{
 "cells": [
  {
   "cell_type": "markdown",
   "metadata": {
    "colab_type": "text",
    "id": "P6xk2_jLsvFF"
   },
   "source": [
    "# [作業目標]\n",
    "\n",
    "1. [簡答題] 請問下列四種不同的 DataFrame 選取結果有什麼差異？\n",
    "\n",
    "```\n",
    "df.loc[ '2013-01-01', 'A'] \n",
    "df.loc[ '2013-01-01', ['A', 'B'] ] \n",
    "df.loc[ '2013-01-01':'2013-01-02', 'A' ] \n",
    "df.loc[ '2013-01-01':'2013-01-05', 'A':'C'] \n",
    "```\n",
    "\n",
    "\n",
    "2. 請根據提供的資料，選擇出下列的要求：\n",
    "\n",
    "```\n",
    "# - select the first 3 rows.\n",
    "# - select the odd rows. (index = 1, 3, 5)\n",
    "# - select the last 2 columns.\n",
    "# - select the even columns. (index = 0, 2, 4)\n",
    "```\n",
    "\n",
    "3. 請根據提供的資料，選擇出下列的要求：\n",
    "\n",
    "```\n",
    "# - 1. filtered by first column > 20?\n",
    "# - 2. filtered by first column + second column > 50\n",
    "# - 3. filtered by first column < 30 or second column > 30\n",
    "# - 4. filtered by total sum of row > 100\n",
    "```"
   ]
  },
  {
   "cell_type": "markdown",
   "metadata": {
    "colab_type": "text",
    "id": "uXGll28asvFS"
   },
   "source": [
    "# 作業 "
   ]
  },
  {
   "cell_type": "markdown",
   "metadata": {},
   "source": [
    "### 1. [簡答題] 請問下列四種不同的 DataFrame 選取結果有什麼差異？\n",
    "\n",
    "```\n",
    "df.loc[ '2013-01-01', 'A'] \n",
    "df.loc[ '2013-01-01', ['A', 'B'] ] \n",
    "df.loc[ '2013-01-01':'2013-01-02', 'A' ] \n",
    "df.loc[ '2013-01-01':'2013-01-05', 'A':'C'] \n",
    "```\n",
    "\n",
    "\n",
    "\n"
   ]
  },
  {
   "cell_type": "code",
   "execution_count": 2,
   "metadata": {
    "colab": {},
    "colab_type": "code",
    "id": "5QrYoyNWsvFS"
   },
   "outputs": [
    {
     "name": "stdout",
     "output_type": "stream",
     "text": [
      "1 \n",
      "\n",
      "A    1\n",
      "B    5\n",
      "Name: 2013-01-01, dtype: int64 \n",
      "\n",
      "2013-01-01    1\n",
      "2013-01-02    2\n",
      "Name: A, dtype: int64 \n",
      "\n",
      "            A   B   C\n",
      "2013-01-01  1   5  11\n",
      "2013-01-02  2   7  12\n",
      "2013-01-03  3   8  13\n",
      "2013-01-04  4   9  14\n",
      "2013-01-05  5  10  15 \n",
      "\n"
     ]
    }
   ],
   "source": [
    "import pandas as pd\n",
    "\n",
    "df = pd.DataFrame({\n",
    "    \"A\":[1, 2, 3, 4, 5],\n",
    "    \"B\":[5, 7, 8, 9, 10],\n",
    "    \"C\":[11, 12, 13, 14 ,15],\n",
    "}, index=[\"2013-01-01\", \"2013-01-02\", \"2013-01-03\", \"2013-01-04\", \"2013-01-05\"])\n",
    "\n",
    "print(df.loc[ '2013-01-01', 'A'], \"\\n\")  \n",
    "print(df.loc[ '2013-01-01', ['A', 'B'] ] , \"\\n\")\n",
    "print(df.loc[ '2013-01-01':'2013-01-02', 'A'] , \"\\n\") \n",
    "print(df.loc[ '2013-01-01':'2013-01-05', 'A':'C'], \"\\n\")"
   ]
  },
  {
   "cell_type": "markdown",
   "metadata": {},
   "source": [
    "### 2. 請根據提供的資料，選擇出下列的要求：\n",
    "\n",
    "```\n",
    "# - select the first 3 rows.\n",
    "# - select the odd rows. (index = 1, 3, 5)\n",
    "# - select the last 2 columns.\n",
    "# - select the even columns. (index = 0, 2, 4)\n",
    "```\n"
   ]
  },
  {
   "cell_type": "code",
   "execution_count": 4,
   "metadata": {},
   "outputs": [],
   "source": [
    "# 記得先 Import 正確的套件\n",
    "import pandas as pd\n",
    "import numpy as np"
   ]
  },
  {
   "cell_type": "code",
   "execution_count": 27,
   "metadata": {
    "colab": {},
    "colab_type": "code",
    "id": "e1gVI0tvsvFY"
   },
   "outputs": [
    {
     "name": "stdout",
     "output_type": "stream",
     "text": [
      "       col1      col2      col3\n",
      "0 -0.450379  0.031016  0.773221\n",
      "1  0.517691  0.238187  0.465275\n",
      "2 -0.014562 -0.864091  0.381729\n",
      "3  1.605157  0.688318 -0.085069\n",
      "4 -0.049185  0.485776 -0.786850\n",
      "5 -1.292804  0.703598  0.315515\n",
      "-------------------------------\n",
      "select the first 3 rows\n",
      "       col1      col2      col3\n",
      "0 -0.450379  0.031016  0.773221\n",
      "1  0.517691  0.238187  0.465275\n",
      "2 -0.014562 -0.864091  0.381729\n",
      "-------------------------------\n",
      "select the odd rows. (index = 1, 3, 5)\n",
      "       col1      col2      col3\n",
      "1  0.517691  0.238187  0.465275\n",
      "3  1.605157  0.688318 -0.085069\n",
      "5 -1.292804  0.703598  0.315515\n",
      "-------------------------------\n",
      "select the last 2 columns.\n",
      "       col1      col2      col3\n",
      "4 -0.049185  0.485776 -0.786850\n",
      "5 -1.292804  0.703598  0.315515\n",
      "-------------------------------\n",
      "select the even columns. (index = 0, 2, 4)\n",
      "       col1      col2      col3\n",
      "0 -0.450379  0.031016  0.773221\n",
      "2 -0.014562 -0.864091  0.381729\n",
      "4 -0.049185  0.485776 -0.786850\n"
     ]
    }
   ],
   "source": [
    "df = pd.DataFrame(np.random.randn(6,3),columns=['col1','col2','col3'])\n",
    "print(df)\n",
    "print(\"-------------------------------\")\n",
    "\n",
    "print(\"select the first 3 rows\")\n",
    "print(df.iloc[0:3])\n",
    "print(\"-------------------------------\")\n",
    "\n",
    "print(\"select the odd rows. (index = 1, 3, 5)\")\n",
    "print(df.iloc[1::2])\n",
    "print(\"-------------------------------\")\n",
    "\n",
    "print(\"select the last 2 columns.\")\n",
    "print(df.iloc[4:6])\n",
    "print(\"-------------------------------\")\n",
    "\n",
    "print(\"select the even columns. (index = 0, 2, 4)\")\n",
    "print(df.iloc[0::2])"
   ]
  },
  {
   "cell_type": "code",
   "execution_count": 8,
   "metadata": {},
   "outputs": [
    {
     "data": {
      "text/html": [
       "<div>\n",
       "<style scoped>\n",
       "    .dataframe tbody tr th:only-of-type {\n",
       "        vertical-align: middle;\n",
       "    }\n",
       "\n",
       "    .dataframe tbody tr th {\n",
       "        vertical-align: top;\n",
       "    }\n",
       "\n",
       "    .dataframe thead th {\n",
       "        text-align: right;\n",
       "    }\n",
       "</style>\n",
       "<table border=\"1\" class=\"dataframe\">\n",
       "  <thead>\n",
       "    <tr style=\"text-align: right;\">\n",
       "      <th></th>\n",
       "      <th>col1</th>\n",
       "      <th>col3</th>\n",
       "    </tr>\n",
       "  </thead>\n",
       "  <tbody>\n",
       "    <tr>\n",
       "      <th>0</th>\n",
       "      <td>0.824286</td>\n",
       "      <td>-0.887365</td>\n",
       "    </tr>\n",
       "    <tr>\n",
       "      <th>1</th>\n",
       "      <td>-1.044179</td>\n",
       "      <td>-0.975283</td>\n",
       "    </tr>\n",
       "    <tr>\n",
       "      <th>2</th>\n",
       "      <td>-1.812146</td>\n",
       "      <td>2.556824</td>\n",
       "    </tr>\n",
       "    <tr>\n",
       "      <th>3</th>\n",
       "      <td>1.746811</td>\n",
       "      <td>-1.529704</td>\n",
       "    </tr>\n",
       "    <tr>\n",
       "      <th>4</th>\n",
       "      <td>0.992052</td>\n",
       "      <td>-0.858061</td>\n",
       "    </tr>\n",
       "    <tr>\n",
       "      <th>5</th>\n",
       "      <td>0.387535</td>\n",
       "      <td>0.714364</td>\n",
       "    </tr>\n",
       "  </tbody>\n",
       "</table>\n",
       "</div>"
      ],
      "text/plain": [
       "       col1      col3\n",
       "0  0.824286 -0.887365\n",
       "1 -1.044179 -0.975283\n",
       "2 -1.812146  2.556824\n",
       "3  1.746811 -1.529704\n",
       "4  0.992052 -0.858061\n",
       "5  0.387535  0.714364"
      ]
     },
     "execution_count": 8,
     "metadata": {},
     "output_type": "execute_result"
    }
   ],
   "source": [
    "'''\n",
    "Your Code\n",
    "'''"
   ]
  },
  {
   "cell_type": "markdown",
   "metadata": {},
   "source": [
    "### 3. 請根據提供的資料，選擇出下列的要求：\n",
    "\n",
    "```\n",
    "# - 1. filtered by first column > 20?\n",
    "# - 2. filtered by first column + second column > 50\n",
    "# - 3. filtered by first column < 30 or second column > 30\n",
    "# - 4. filtered by total sum of row > 100\n",
    "```"
   ]
  },
  {
   "cell_type": "code",
   "execution_count": 36,
   "metadata": {},
   "outputs": [
    {
     "data": {
      "text/html": [
       "<div>\n",
       "<style scoped>\n",
       "    .dataframe tbody tr th:only-of-type {\n",
       "        vertical-align: middle;\n",
       "    }\n",
       "\n",
       "    .dataframe tbody tr th {\n",
       "        vertical-align: top;\n",
       "    }\n",
       "\n",
       "    .dataframe thead th {\n",
       "        text-align: right;\n",
       "    }\n",
       "</style>\n",
       "<table border=\"1\" class=\"dataframe\">\n",
       "  <thead>\n",
       "    <tr style=\"text-align: right;\">\n",
       "      <th></th>\n",
       "      <th>0</th>\n",
       "      <th>1</th>\n",
       "      <th>2</th>\n",
       "      <th>3</th>\n",
       "    </tr>\n",
       "  </thead>\n",
       "  <tbody>\n",
       "    <tr>\n",
       "      <th>0</th>\n",
       "      <td>28</td>\n",
       "      <td>30</td>\n",
       "      <td>10</td>\n",
       "      <td>14</td>\n",
       "    </tr>\n",
       "    <tr>\n",
       "      <th>1</th>\n",
       "      <td>25</td>\n",
       "      <td>33</td>\n",
       "      <td>21</td>\n",
       "      <td>30</td>\n",
       "    </tr>\n",
       "    <tr>\n",
       "      <th>2</th>\n",
       "      <td>35</td>\n",
       "      <td>27</td>\n",
       "      <td>12</td>\n",
       "      <td>34</td>\n",
       "    </tr>\n",
       "    <tr>\n",
       "      <th>3</th>\n",
       "      <td>28</td>\n",
       "      <td>31</td>\n",
       "      <td>28</td>\n",
       "      <td>29</td>\n",
       "    </tr>\n",
       "    <tr>\n",
       "      <th>4</th>\n",
       "      <td>19</td>\n",
       "      <td>16</td>\n",
       "      <td>27</td>\n",
       "      <td>16</td>\n",
       "    </tr>\n",
       "    <tr>\n",
       "      <th>5</th>\n",
       "      <td>21</td>\n",
       "      <td>31</td>\n",
       "      <td>32</td>\n",
       "      <td>26</td>\n",
       "    </tr>\n",
       "    <tr>\n",
       "      <th>6</th>\n",
       "      <td>30</td>\n",
       "      <td>11</td>\n",
       "      <td>26</td>\n",
       "      <td>28</td>\n",
       "    </tr>\n",
       "    <tr>\n",
       "      <th>7</th>\n",
       "      <td>11</td>\n",
       "      <td>20</td>\n",
       "      <td>35</td>\n",
       "      <td>10</td>\n",
       "    </tr>\n",
       "    <tr>\n",
       "      <th>8</th>\n",
       "      <td>11</td>\n",
       "      <td>15</td>\n",
       "      <td>10</td>\n",
       "      <td>10</td>\n",
       "    </tr>\n",
       "    <tr>\n",
       "      <th>9</th>\n",
       "      <td>19</td>\n",
       "      <td>28</td>\n",
       "      <td>34</td>\n",
       "      <td>32</td>\n",
       "    </tr>\n",
       "    <tr>\n",
       "      <th>10</th>\n",
       "      <td>34</td>\n",
       "      <td>16</td>\n",
       "      <td>19</td>\n",
       "      <td>25</td>\n",
       "    </tr>\n",
       "    <tr>\n",
       "      <th>11</th>\n",
       "      <td>15</td>\n",
       "      <td>10</td>\n",
       "      <td>38</td>\n",
       "      <td>19</td>\n",
       "    </tr>\n",
       "    <tr>\n",
       "      <th>12</th>\n",
       "      <td>39</td>\n",
       "      <td>17</td>\n",
       "      <td>39</td>\n",
       "      <td>26</td>\n",
       "    </tr>\n",
       "    <tr>\n",
       "      <th>13</th>\n",
       "      <td>22</td>\n",
       "      <td>28</td>\n",
       "      <td>10</td>\n",
       "      <td>35</td>\n",
       "    </tr>\n",
       "    <tr>\n",
       "      <th>14</th>\n",
       "      <td>13</td>\n",
       "      <td>24</td>\n",
       "      <td>29</td>\n",
       "      <td>37</td>\n",
       "    </tr>\n",
       "  </tbody>\n",
       "</table>\n",
       "</div>"
      ],
      "text/plain": [
       "     0   1   2   3\n",
       "0   28  30  10  14\n",
       "1   25  33  21  30\n",
       "2   35  27  12  34\n",
       "3   28  31  28  29\n",
       "4   19  16  27  16\n",
       "5   21  31  32  26\n",
       "6   30  11  26  28\n",
       "7   11  20  35  10\n",
       "8   11  15  10  10\n",
       "9   19  28  34  32\n",
       "10  34  16  19  25\n",
       "11  15  10  38  19\n",
       "12  39  17  39  26\n",
       "13  22  28  10  35\n",
       "14  13  24  29  37"
      ]
     },
     "execution_count": 36,
     "metadata": {},
     "output_type": "execute_result"
    }
   ],
   "source": [
    "df = pd.DataFrame(np.random.randint(10, 40, 60).reshape(-1, 4))\n",
    "df"
   ]
  },
  {
   "cell_type": "code",
   "execution_count": 52,
   "metadata": {},
   "outputs": [
    {
     "name": "stdout",
     "output_type": "stream",
     "text": [
      "0     28\n",
      "1     25\n",
      "2     35\n",
      "3     28\n",
      "5     21\n",
      "6     30\n",
      "10    34\n",
      "12    39\n",
      "13    22\n",
      "Name: 0, dtype: int64\n"
     ]
    }
   ],
   "source": [
    "data= df[0]\n",
    "print(data[data > 20])"
   ]
  },
  {
   "cell_type": "code",
   "execution_count": 57,
   "metadata": {},
   "outputs": [
    {
     "name": "stdout",
     "output_type": "stream",
     "text": [
      "0     58\n",
      "1     58\n",
      "2     62\n",
      "3     59\n",
      "5     52\n",
      "12    56\n",
      "dtype: int64\n"
     ]
    }
   ],
   "source": [
    "data = df[0] + df[1]\n",
    "print(data[data > 50])"
   ]
  },
  {
   "cell_type": "code",
   "execution_count": 85,
   "metadata": {},
   "outputs": [
    {
     "name": "stdout",
     "output_type": "stream",
     "text": [
      "     0     1\n",
      "0   28   NaN\n",
      "1   25  33.0\n",
      "3   28  31.0\n",
      "4   19   NaN\n",
      "5   21  31.0\n",
      "7   11   NaN\n",
      "8   11   NaN\n",
      "9   19   NaN\n",
      "11  15   NaN\n",
      "13  22   NaN\n",
      "14  13   NaN\n"
     ]
    }
   ],
   "source": [
    "# 3. filtered by first column < 30 or second column > 30\n",
    "data1 = df[0]\n",
    "data2 = df[1]\n",
    "print(pd.concat([data1[data1 < 30], data2[data2 > 30]], axis=1))\n"
   ]
  },
  {
   "cell_type": "code",
   "execution_count": 59,
   "metadata": {},
   "outputs": [
    {
     "name": "stdout",
     "output_type": "stream",
     "text": [
      "1     109\n",
      "2     108\n",
      "3     116\n",
      "5     110\n",
      "9     113\n",
      "12    121\n",
      "14    103\n",
      "dtype: int64\n"
     ]
    }
   ],
   "source": [
    "# 4. filtered by total sum of row > 100\n",
    "data = df.sum(axis=1)\n",
    "print(data[data > 100])"
   ]
  }
 ],
 "metadata": {
  "colab": {
   "name": "Day_023_HW.ipynb",
   "provenance": []
  },
  "kernelspec": {
   "display_name": "Python 3",
   "language": "python",
   "name": "python3"
  },
  "language_info": {
   "codemirror_mode": {
    "name": "ipython",
    "version": 3
   },
   "file_extension": ".py",
   "mimetype": "text/x-python",
   "name": "python",
   "nbconvert_exporter": "python",
   "pygments_lexer": "ipython3",
   "version": "3.8.8"
  }
 },
 "nbformat": 4,
 "nbformat_minor": 1
}
